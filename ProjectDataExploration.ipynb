{
 "cells": [
  {
   "cell_type": "code",
   "execution_count": 1,
   "id": "e9a5c612-f41b-49bf-a1f1-4a6a852e58dc",
   "metadata": {},
   "outputs": [],
   "source": [
    "import s3fs"
   ]
  },
  {
   "cell_type": "code",
   "execution_count": 2,
   "id": "80f8c37e-d3a7-4055-b105-50dcddb42e1e",
   "metadata": {},
   "outputs": [
    {
     "data": {
      "text/plain": [
       "['spacenet-dataset/Hosted-Datasets/fmow/fmow-full/CHANGELOG.md',\n",
       " 'spacenet-dataset/Hosted-Datasets/fmow/fmow-full/IARPA-fMoW.pdf',\n",
       " 'spacenet-dataset/Hosted-Datasets/fmow/fmow-full/LICENSE',\n",
       " 'spacenet-dataset/Hosted-Datasets/fmow/fmow-full/README.md',\n",
       " 'spacenet-dataset/Hosted-Datasets/fmow/fmow-full/fMoW-full_seqandgt_v1.2.1.torrent',\n",
       " 'spacenet-dataset/Hosted-Datasets/fmow/fmow-full/fMoW-full_test_v1.0.0.torrent',\n",
       " 'spacenet-dataset/Hosted-Datasets/fmow/fmow-full/fMoW-full_trainval_v1.0.0.torrent',\n",
       " 'spacenet-dataset/Hosted-Datasets/fmow/fmow-full/fMoW-full_val_sample_v1.1.0.torrent',\n",
       " 'spacenet-dataset/Hosted-Datasets/fmow/fmow-full/groundtruth.tar.bz2',\n",
       " 'spacenet-dataset/Hosted-Datasets/fmow/fmow-full/manifest.json.bz2',\n",
       " 'spacenet-dataset/Hosted-Datasets/fmow/fmow-full/seq',\n",
       " 'spacenet-dataset/Hosted-Datasets/fmow/fmow-full/test',\n",
       " 'spacenet-dataset/Hosted-Datasets/fmow/fmow-full/train',\n",
       " 'spacenet-dataset/Hosted-Datasets/fmow/fmow-full/val',\n",
       " 'spacenet-dataset/Hosted-Datasets/fmow/fmow-full/val_false_detection_metadata.tar.bz2']"
      ]
     },
     "execution_count": 2,
     "metadata": {},
     "output_type": "execute_result"
    }
   ],
   "source": [
    "s3 = s3fs.S3FileSystem(anon=True)\n",
    "s3path = 's3://spacenet-dataset/Hosted-Datasets/fmow/fmow-full/'\n",
    "s3.ls(s3path)"
   ]
  },
  {
   "cell_type": "code",
   "execution_count": 3,
   "id": "be72e996-8ead-462c-aa0b-e6ea7531ae44",
   "metadata": {},
   "outputs": [
    {
     "data": {
      "text/plain": [
       "['spacenet-dataset/',\n",
       " 'spacenet-dataset/AOIs',\n",
       " 'spacenet-dataset/Hosted-Datasets',\n",
       " 'spacenet-dataset/LICENSE.md',\n",
       " 'spacenet-dataset/SpaceNet_Off-Nadir_Dataset',\n",
       " 'spacenet-dataset/spacenet',\n",
       " 'spacenet-dataset/spacenet-model-weights',\n",
       " 'spacenet-dataset/spacenet-stac']"
      ]
     },
     "execution_count": 3,
     "metadata": {},
     "output_type": "execute_result"
    }
   ],
   "source": [
    "s3.ls('s3://spacenet-dataset/')"
   ]
  },
  {
   "cell_type": "code",
   "execution_count": 4,
   "id": "a1a6a6a5-b5fc-4b37-b67e-97bb83abc52d",
   "metadata": {},
   "outputs": [],
   "source": [
    "truthdata = 'spacenet-dataset/Hosted-Datasets/fmow/fmow-full/manifest.json.bz2'"
   ]
  },
  {
   "cell_type": "code",
   "execution_count": 5,
   "id": "8ee9a6a3-b594-4573-ad52-236ad3975d19",
   "metadata": {},
   "outputs": [],
   "source": [
    "import glob"
   ]
  },
  {
   "cell_type": "code",
   "execution_count": 6,
   "id": "0a990164-b676-4fca-8bce-20cbb68ec57b",
   "metadata": {},
   "outputs": [],
   "source": [
    "files = glob.glob('./groundtruth/*/*/*/*')"
   ]
  },
  {
   "cell_type": "code",
   "execution_count": 7,
   "id": "77fc9f69-3d05-4ffb-be04-1b51e312071b",
   "metadata": {},
   "outputs": [
    {
     "data": {
      "text/plain": [
       "1047691"
      ]
     },
     "execution_count": 7,
     "metadata": {},
     "output_type": "execute_result"
    }
   ],
   "source": [
    "len(files)"
   ]
  },
  {
   "cell_type": "code",
   "execution_count": 8,
   "id": "4c3cfd7c-85f9-4f79-bbc9-9887686a8050",
   "metadata": {},
   "outputs": [
    {
     "data": {
      "text/plain": [
       "['./groundtruth/seq_gt/fountain/fountain_148/fountain_148_0_rgb.json',\n",
       " './groundtruth/seq_gt/fountain/fountain_148/fountain_148_0_ms.json',\n",
       " './groundtruth/seq_gt/fountain/fountain_32/fountain_32_0_rgb.json',\n",
       " './groundtruth/seq_gt/fountain/fountain_32/fountain_32_0_ms.json',\n",
       " './groundtruth/seq_gt/fountain/fountain_141/fountain_141_0_rgb.json',\n",
       " './groundtruth/seq_gt/fountain/fountain_141/fountain_141_1_rgb.json',\n",
       " './groundtruth/seq_gt/fountain/fountain_141/fountain_141_1_ms.json',\n",
       " './groundtruth/seq_gt/fountain/fountain_141/fountain_141_0_ms.json',\n",
       " './groundtruth/seq_gt/fountain/fountain_146/fountain_146_0_ms.json',\n",
       " './groundtruth/seq_gt/fountain/fountain_146/fountain_146_0_rgb.json']"
      ]
     },
     "execution_count": 8,
     "metadata": {},
     "output_type": "execute_result"
    }
   ],
   "source": [
    "files[:10]"
   ]
  },
  {
   "cell_type": "code",
   "execution_count": 9,
   "id": "d4466542-4756-40bb-851d-13a25119a5e8",
   "metadata": {},
   "outputs": [],
   "source": [
    "import json"
   ]
  },
  {
   "cell_type": "code",
   "execution_count": 35,
   "id": "cf1fc6d7-b5c3-4173-9422-965e13492e50",
   "metadata": {},
   "outputs": [],
   "source": [
    "j = json.load(open(files[1]))"
   ]
  },
  {
   "cell_type": "code",
   "execution_count": 36,
   "id": "68909368-ee95-4ac4-809a-54553ee26c75",
   "metadata": {},
   "outputs": [],
   "source": [
    "import pandas as pd"
   ]
  },
  {
   "cell_type": "code",
   "execution_count": 37,
   "id": "79121280-a5cb-486a-b1dc-dbaf2069c6a6",
   "metadata": {},
   "outputs": [
    {
     "data": {
      "text/plain": [
       "['./groundtruth/seq_gt/fountain/fountain_148/fountain_148_0_rgb.json',\n",
       " './groundtruth/seq_gt/fountain/fountain_148/fountain_148_0_ms.json']"
      ]
     },
     "execution_count": 37,
     "metadata": {},
     "output_type": "execute_result"
    }
   ],
   "source": [
    "files[:2]"
   ]
  },
  {
   "cell_type": "code",
   "execution_count": 38,
   "id": "9665f186-79ac-4000-a074-79932338e885",
   "metadata": {
    "tags": []
   },
   "outputs": [],
   "source": [
    "df = pd.json_normalize(j)\n"
   ]
  },
  {
   "cell_type": "code",
   "execution_count": 44,
   "id": "d0a39249-a3a6-4723-89c1-345d157d245c",
   "metadata": {},
   "outputs": [
    {
     "data": {
      "text/plain": [
       "Index(['img_filename', 'bounding_boxes', 'gsd', 'img_width', 'img_height',\n",
       "       'mean_pixel_height', 'mean_pixel_width', 'utm', 'country_code',\n",
       "       'cloud_cover', 'timestamp', 'scan_direction', 'approximate_wavelengths',\n",
       "       'pan_resolution_dbl', 'pan_resolution_start_dbl',\n",
       "       'pan_resolution_end_dbl', 'pan_resolution_min_dbl',\n",
       "       'pan_resolution_max_dbl', 'multi_resolution_dbl',\n",
       "       'multi_resolution_start_dbl', 'multi_resolution_end_dbl',\n",
       "       'multi_resolution_min_dbl', 'multi_resolution_max_dbl',\n",
       "       'target_azimuth_dbl', 'target_azimuth_start_dbl',\n",
       "       'target_azimuth_end_dbl', 'target_azimuth_min_dbl',\n",
       "       'target_azimuth_max_dbl', 'sun_azimuth_dbl', 'sun_azimuth_min_dbl',\n",
       "       'sun_azimuth_max_dbl', 'sun_elevation_dbl', 'sun_elevation_min_dbl',\n",
       "       'sun_elevation_max_dbl', 'off_nadir_angle_dbl',\n",
       "       'off_nadir_angle_start_dbl', 'off_nadir_angle_end_dbl',\n",
       "       'off_nadir_angle_min_dbl', 'off_nadir_angle_max_dbl', 'catalog_id',\n",
       "       'sensor_platform_name', 'raw_location', 'spatial_reference', 'epsg',\n",
       "       'abs_cal_factors'],\n",
       "      dtype='object')"
      ]
     },
     "execution_count": 44,
     "metadata": {},
     "output_type": "execute_result"
    }
   ],
   "source": [
    "df.columns"
   ]
  },
  {
   "cell_type": "code",
   "execution_count": 45,
   "id": "d0f11ba9-bba4-4d69-989f-af5d2a09e0bb",
   "metadata": {},
   "outputs": [
    {
     "data": {
      "text/plain": [
       "'POLYGON ((12.757161911800001 47.270718547500003, 12.7616534882 47.270718547500003, 12.7616534882 47.273775608000001, 12.757161911800001 47.273775608000001, 12.757161911800001 47.270718547500003))'"
      ]
     },
     "execution_count": 45,
     "metadata": {},
     "output_type": "execute_result"
    }
   ],
   "source": [
    "df['raw_location'][0]"
   ]
  },
  {
   "cell_type": "code",
   "execution_count": null,
   "id": "0ee01da3-5ea4-43ad-a49b-d2db078a3324",
   "metadata": {},
   "outputs": [],
   "source": []
  }
 ],
 "metadata": {
  "kernelspec": {
   "display_name": "Python 3 (ipykernel)",
   "language": "python",
   "name": "python3"
  },
  "language_info": {
   "codemirror_mode": {
    "name": "ipython",
    "version": 3
   },
   "file_extension": ".py",
   "mimetype": "text/x-python",
   "name": "python",
   "nbconvert_exporter": "python",
   "pygments_lexer": "ipython3",
   "version": "3.9.13"
  }
 },
 "nbformat": 4,
 "nbformat_minor": 5
}
