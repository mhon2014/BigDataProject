{
 "cells": [
  {
   "cell_type": "code",
   "execution_count": 1,
   "id": "e9a5c612-f41b-49bf-a1f1-4a6a852e58dc",
   "metadata": {},
   "outputs": [],
   "source": [
    "import s3fs"
   ]
  },
  {
   "cell_type": "code",
   "execution_count": 5,
   "id": "80f8c37e-d3a7-4055-b105-50dcddb42e1e",
   "metadata": {},
   "outputs": [
    {
     "data": {
      "text/plain": [
       "['spacenet-dataset/Hosted-Datasets/fmow/fmow-full/CHANGELOG.md',\n",
       " 'spacenet-dataset/Hosted-Datasets/fmow/fmow-full/IARPA-fMoW.pdf',\n",
       " 'spacenet-dataset/Hosted-Datasets/fmow/fmow-full/LICENSE',\n",
       " 'spacenet-dataset/Hosted-Datasets/fmow/fmow-full/README.md',\n",
       " 'spacenet-dataset/Hosted-Datasets/fmow/fmow-full/fMoW-full_seqandgt_v1.2.1.torrent',\n",
       " 'spacenet-dataset/Hosted-Datasets/fmow/fmow-full/fMoW-full_test_v1.0.0.torrent',\n",
       " 'spacenet-dataset/Hosted-Datasets/fmow/fmow-full/fMoW-full_trainval_v1.0.0.torrent',\n",
       " 'spacenet-dataset/Hosted-Datasets/fmow/fmow-full/fMoW-full_val_sample_v1.1.0.torrent',\n",
       " 'spacenet-dataset/Hosted-Datasets/fmow/fmow-full/groundtruth.tar.bz2',\n",
       " 'spacenet-dataset/Hosted-Datasets/fmow/fmow-full/manifest.json.bz2',\n",
       " 'spacenet-dataset/Hosted-Datasets/fmow/fmow-full/seq',\n",
       " 'spacenet-dataset/Hosted-Datasets/fmow/fmow-full/test',\n",
       " 'spacenet-dataset/Hosted-Datasets/fmow/fmow-full/train',\n",
       " 'spacenet-dataset/Hosted-Datasets/fmow/fmow-full/val',\n",
       " 'spacenet-dataset/Hosted-Datasets/fmow/fmow-full/val_false_detection_metadata.tar.bz2']"
      ]
     },
     "execution_count": 5,
     "metadata": {},
     "output_type": "execute_result"
    }
   ],
   "source": [
    "s3 = s3fs.S3FileSystem(anon=True)\n",
    "s3path = 's3://spacenet-dataset/Hosted-Datasets/fmow/fmow-full/'\n",
    "s3.ls(s3path)"
   ]
  },
  {
   "cell_type": "code",
   "execution_count": 16,
   "id": "be72e996-8ead-462c-aa0b-e6ea7531ae44",
   "metadata": {},
   "outputs": [
    {
     "data": {
      "text/plain": [
       "['spacenet-dataset/',\n",
       " 'spacenet-dataset/AOIs',\n",
       " 'spacenet-dataset/Hosted-Datasets',\n",
       " 'spacenet-dataset/LICENSE.md',\n",
       " 'spacenet-dataset/SpaceNet_Off-Nadir_Dataset',\n",
       " 'spacenet-dataset/spacenet',\n",
       " 'spacenet-dataset/spacenet-model-weights',\n",
       " 'spacenet-dataset/spacenet-stac']"
      ]
     },
     "execution_count": 16,
     "metadata": {},
     "output_type": "execute_result"
    }
   ],
   "source": [
    "s3.ls('s3://spacenet-dataset/')"
   ]
  },
  {
   "cell_type": "code",
   "execution_count": 6,
   "id": "a1a6a6a5-b5fc-4b37-b67e-97bb83abc52d",
   "metadata": {},
   "outputs": [],
   "source": [
    "truthdata = 'spacenet-dataset/Hosted-Datasets/fmow/fmow-full/manifest.json.bz2'"
   ]
  },
  {
   "cell_type": "code",
   "execution_count": 20,
   "id": "8ee9a6a3-b594-4573-ad52-236ad3975d19",
   "metadata": {},
   "outputs": [],
   "source": [
    "import glob"
   ]
  },
  {
   "cell_type": "code",
   "execution_count": 30,
   "id": "0a990164-b676-4fca-8bce-20cbb68ec57b",
   "metadata": {},
   "outputs": [],
   "source": [
    "files = glob.glob('./groundtruth/*/*/*/*')"
   ]
  },
  {
   "cell_type": "code",
   "execution_count": null,
   "id": "77fc9f69-3d05-4ffb-be04-1b51e312071b",
   "metadata": {},
   "outputs": [
    {
     "data": {
      "text/plain": [
       "1047691"
      ]
     },
     "execution_count": 46,
     "metadata": {},
     "output_type": "execute_result"
    }
   ],
   "source": [
    "len(files)"
   ]
  },
  {
   "cell_type": "code",
   "execution_count": 32,
   "id": "4c3cfd7c-85f9-4f79-bbc9-9887686a8050",
   "metadata": {},
   "outputs": [
    {
     "data": {
      "text/plain": [
       "['./groundtruth/seq_gt/fountain/fountain_148/fountain_148_0_rgb.json',\n",
       " './groundtruth/seq_gt/fountain/fountain_148/fountain_148_0_ms.json',\n",
       " './groundtruth/seq_gt/fountain/fountain_32/fountain_32_0_rgb.json',\n",
       " './groundtruth/seq_gt/fountain/fountain_32/fountain_32_0_ms.json',\n",
       " './groundtruth/seq_gt/fountain/fountain_141/fountain_141_0_rgb.json',\n",
       " './groundtruth/seq_gt/fountain/fountain_141/fountain_141_1_rgb.json',\n",
       " './groundtruth/seq_gt/fountain/fountain_141/fountain_141_1_ms.json',\n",
       " './groundtruth/seq_gt/fountain/fountain_141/fountain_141_0_ms.json',\n",
       " './groundtruth/seq_gt/fountain/fountain_146/fountain_146_0_ms.json',\n",
       " './groundtruth/seq_gt/fountain/fountain_146/fountain_146_0_rgb.json']"
      ]
     },
     "execution_count": 32,
     "metadata": {},
     "output_type": "execute_result"
    }
   ],
   "source": [
    "files[:10]"
   ]
  },
  {
   "cell_type": "code",
   "execution_count": 36,
   "id": "d4466542-4756-40bb-851d-13a25119a5e8",
   "metadata": {},
   "outputs": [],
   "source": [
    "import json"
   ]
  },
  {
   "cell_type": "code",
   "execution_count": 37,
   "id": "cf1fc6d7-b5c3-4173-9422-965e13492e50",
   "metadata": {},
   "outputs": [],
   "source": [
    "j = json.load(open(files[0]))"
   ]
  },
  {
   "cell_type": "code",
   "execution_count": 45,
   "id": "27de19d6-fbbc-48d6-9838-0b33fac189d0",
   "metadata": {},
   "outputs": [
    {
     "data": {
      "text/plain": [
       "{'img_filename': 'fountain_148_0_rgb.tif',\n",
       " 'bounding_boxes': [{'raw_category': 'Fountain',\n",
       "   'category': 'fountain',\n",
       "   'raw_location': 'POLYGON ((12.7593213235307701 47.2723420711553715, 12.7595329458803857 47.2723420711553715, 12.7595329458803857 47.2721736737549492, 12.7593213235307701 47.2721736737549492, 12.7593213235307701 47.2723420711553715))',\n",
       "   'ID': -1,\n",
       "   'spatial_reference': 'GCS_WGS_1984',\n",
       "   'epsg': '4326',\n",
       "   'crowd_rank': 0.752623,\n",
       "   'box': [500, 331, 49, 38]},\n",
       "  {'category': 'fountain',\n",
       "   'ID': 105261,\n",
       "   'visible': 'True',\n",
       "   'box': [500, 331, 49, 38]},\n",
       "  {'category': 'false_detection',\n",
       "   'ID': 502912,\n",
       "   'visible': 'True',\n",
       "   'box': [81, 33, 945, 76]}],\n",
       " 'gsd': 0.483650326729,\n",
       " 'img_width': 1040,\n",
       " 'img_height': 708,\n",
       " 'mean_pixel_height': 4.317882062144e-06,\n",
       " 'mean_pixel_width': 4.318823461538e-06,\n",
       " 'utm': '33T',\n",
       " 'country_code': 'AUT',\n",
       " 'cloud_cover': 0,\n",
       " 'timestamp': '2015-08-13T10:23:30Z',\n",
       " 'scan_direction': 'Reverse',\n",
       " 'approximate_wavelengths': [661, 545, 477],\n",
       " 'pan_resolution_dbl': 0.483650326729,\n",
       " 'pan_resolution_start_dbl': 0.47874122858,\n",
       " 'pan_resolution_end_dbl': 0.491857945919,\n",
       " 'pan_resolution_min_dbl': 0.47874122858,\n",
       " 'pan_resolution_max_dbl': 0.491857945919,\n",
       " 'multi_resolution_dbl': 1.93108081818,\n",
       " 'multi_resolution_start_dbl': 1.91276812553,\n",
       " 'multi_resolution_end_dbl': 1.96311151981,\n",
       " 'multi_resolution_min_dbl': 1.91276812553,\n",
       " 'multi_resolution_max_dbl': 1.96311151981,\n",
       " 'target_azimuth_dbl': 70.069770813,\n",
       " 'target_azimuth_start_dbl': 98.9154510498,\n",
       " 'target_azimuth_end_dbl': 49.6620597839,\n",
       " 'target_azimuth_min_dbl': 49.6620597839,\n",
       " 'target_azimuth_max_dbl': 98.9154510498,\n",
       " 'sun_azimuth_dbl': 158.048553467,\n",
       " 'sun_azimuth_min_dbl': 157.787918091,\n",
       " 'sun_azimuth_max_dbl': 158.268249512,\n",
       " 'sun_elevation_dbl': 55.8582077026,\n",
       " 'sun_elevation_min_dbl': 55.5251235962,\n",
       " 'sun_elevation_max_dbl': 56.233959198,\n",
       " 'off_nadir_angle_dbl': 11.4584646225,\n",
       " 'off_nadir_angle_start_dbl': 9.89509296417,\n",
       " 'off_nadir_angle_end_dbl': 13.8900117874,\n",
       " 'off_nadir_angle_min_dbl': 9.89509296417,\n",
       " 'off_nadir_angle_max_dbl': 13.8900117874,\n",
       " 'catalog_id': '1030050042F99900',\n",
       " 'sensor_platform_name': 'WORLDVIEW02',\n",
       " 'raw_location': 'POLYGON ((12.757161911800001 47.270718547500003, 12.7616534882 47.270718547500003, 12.7616534882 47.273775608000001, 12.757161911800001 47.273775608000001, 12.757161911800001 47.270718547500003))',\n",
       " 'spatial_reference': 'GCS_WGS_1984',\n",
       " 'epsg': '4326',\n",
       " 'abs_cal_factors': [{'band': 'coastal', 'value': 0.009295654},\n",
       "  {'band': 'blue', 'value': 0.01260825},\n",
       "  {'band': 'green', 'value': 0.009713071},\n",
       "  {'band': 'yellow', 'value': 0.005829815},\n",
       "  {'band': 'red', 'value': 0.011},\n",
       "  {'band': 'rededge', 'value': 0.005188136},\n",
       "  {'band': 'nir', 'value': 0.0122},\n",
       "  {'band': 'nir2', 'value': 0.009042234}]}"
      ]
     },
     "execution_count": 45,
     "metadata": {},
     "output_type": "execute_result"
    }
   ],
   "source": [
    "j"
   ]
  },
  {
   "cell_type": "code",
   "execution_count": 34,
   "id": "68909368-ee95-4ac4-809a-54553ee26c75",
   "metadata": {},
   "outputs": [],
   "source": [
    "import pandas as pd"
   ]
  },
  {
   "cell_type": "code",
   "execution_count": null,
   "id": "9665f186-79ac-4000-a074-79932338e885",
   "metadata": {
    "collapsed": true,
    "jupyter": {
     "outputs_hidden": true
    },
    "tags": []
   },
   "outputs": [
    {
     "ename": "ValueError",
     "evalue": "Invalid file path or buffer object type: <class 'dict'>",
     "output_type": "error",
     "traceback": [
      "\u001b[0;31m---------------------------------------------------------------------------\u001b[0m",
      "\u001b[0;31mValueError\u001b[0m                                Traceback (most recent call last)",
      "Input \u001b[0;32mIn [44]\u001b[0m, in \u001b[0;36m<cell line: 1>\u001b[0;34m()\u001b[0m\n\u001b[0;32m----> 1\u001b[0m df \u001b[38;5;241m=\u001b[39m \u001b[43mpd\u001b[49m\u001b[38;5;241;43m.\u001b[39;49m\u001b[43mread_json\u001b[49m\u001b[43m(\u001b[49m\u001b[43mj\u001b[49m\u001b[43m)\u001b[49m\n",
      "File \u001b[0;32m~/opt/anaconda3/envs/saturnbase/lib/python3.9/site-packages/pandas/util/_decorators.py:207\u001b[0m, in \u001b[0;36mdeprecate_kwarg.<locals>._deprecate_kwarg.<locals>.wrapper\u001b[0;34m(*args, **kwargs)\u001b[0m\n\u001b[1;32m    205\u001b[0m     \u001b[38;5;28;01melse\u001b[39;00m:\n\u001b[1;32m    206\u001b[0m         kwargs[new_arg_name] \u001b[38;5;241m=\u001b[39m new_arg_value\n\u001b[0;32m--> 207\u001b[0m \u001b[38;5;28;01mreturn\u001b[39;00m \u001b[43mfunc\u001b[49m\u001b[43m(\u001b[49m\u001b[38;5;241;43m*\u001b[39;49m\u001b[43margs\u001b[49m\u001b[43m,\u001b[49m\u001b[43m \u001b[49m\u001b[38;5;241;43m*\u001b[39;49m\u001b[38;5;241;43m*\u001b[39;49m\u001b[43mkwargs\u001b[49m\u001b[43m)\u001b[49m\n",
      "File \u001b[0;32m~/opt/anaconda3/envs/saturnbase/lib/python3.9/site-packages/pandas/util/_decorators.py:311\u001b[0m, in \u001b[0;36mdeprecate_nonkeyword_arguments.<locals>.decorate.<locals>.wrapper\u001b[0;34m(*args, **kwargs)\u001b[0m\n\u001b[1;32m    305\u001b[0m \u001b[38;5;28;01mif\u001b[39;00m \u001b[38;5;28mlen\u001b[39m(args) \u001b[38;5;241m>\u001b[39m num_allow_args:\n\u001b[1;32m    306\u001b[0m     warnings\u001b[38;5;241m.\u001b[39mwarn(\n\u001b[1;32m    307\u001b[0m         msg\u001b[38;5;241m.\u001b[39mformat(arguments\u001b[38;5;241m=\u001b[39marguments),\n\u001b[1;32m    308\u001b[0m         \u001b[38;5;167;01mFutureWarning\u001b[39;00m,\n\u001b[1;32m    309\u001b[0m         stacklevel\u001b[38;5;241m=\u001b[39mstacklevel,\n\u001b[1;32m    310\u001b[0m     )\n\u001b[0;32m--> 311\u001b[0m \u001b[38;5;28;01mreturn\u001b[39;00m \u001b[43mfunc\u001b[49m\u001b[43m(\u001b[49m\u001b[38;5;241;43m*\u001b[39;49m\u001b[43margs\u001b[49m\u001b[43m,\u001b[49m\u001b[43m \u001b[49m\u001b[38;5;241;43m*\u001b[39;49m\u001b[38;5;241;43m*\u001b[39;49m\u001b[43mkwargs\u001b[49m\u001b[43m)\u001b[49m\n",
      "File \u001b[0;32m~/opt/anaconda3/envs/saturnbase/lib/python3.9/site-packages/pandas/io/json/_json.py:588\u001b[0m, in \u001b[0;36mread_json\u001b[0;34m(path_or_buf, orient, typ, dtype, convert_axes, convert_dates, keep_default_dates, numpy, precise_float, date_unit, encoding, encoding_errors, lines, chunksize, compression, nrows, storage_options)\u001b[0m\n\u001b[1;32m    585\u001b[0m \u001b[38;5;28;01mif\u001b[39;00m convert_axes \u001b[38;5;129;01mis\u001b[39;00m \u001b[38;5;28;01mNone\u001b[39;00m \u001b[38;5;129;01mand\u001b[39;00m orient \u001b[38;5;241m!=\u001b[39m \u001b[38;5;124m\"\u001b[39m\u001b[38;5;124mtable\u001b[39m\u001b[38;5;124m\"\u001b[39m:\n\u001b[1;32m    586\u001b[0m     convert_axes \u001b[38;5;241m=\u001b[39m \u001b[38;5;28;01mTrue\u001b[39;00m\n\u001b[0;32m--> 588\u001b[0m json_reader \u001b[38;5;241m=\u001b[39m \u001b[43mJsonReader\u001b[49m\u001b[43m(\u001b[49m\n\u001b[1;32m    589\u001b[0m \u001b[43m    \u001b[49m\u001b[43mpath_or_buf\u001b[49m\u001b[43m,\u001b[49m\n\u001b[1;32m    590\u001b[0m \u001b[43m    \u001b[49m\u001b[43morient\u001b[49m\u001b[38;5;241;43m=\u001b[39;49m\u001b[43morient\u001b[49m\u001b[43m,\u001b[49m\n\u001b[1;32m    591\u001b[0m \u001b[43m    \u001b[49m\u001b[43mtyp\u001b[49m\u001b[38;5;241;43m=\u001b[39;49m\u001b[43mtyp\u001b[49m\u001b[43m,\u001b[49m\n\u001b[1;32m    592\u001b[0m \u001b[43m    \u001b[49m\u001b[43mdtype\u001b[49m\u001b[38;5;241;43m=\u001b[39;49m\u001b[43mdtype\u001b[49m\u001b[43m,\u001b[49m\n\u001b[1;32m    593\u001b[0m \u001b[43m    \u001b[49m\u001b[43mconvert_axes\u001b[49m\u001b[38;5;241;43m=\u001b[39;49m\u001b[43mconvert_axes\u001b[49m\u001b[43m,\u001b[49m\n\u001b[1;32m    594\u001b[0m \u001b[43m    \u001b[49m\u001b[43mconvert_dates\u001b[49m\u001b[38;5;241;43m=\u001b[39;49m\u001b[43mconvert_dates\u001b[49m\u001b[43m,\u001b[49m\n\u001b[1;32m    595\u001b[0m \u001b[43m    \u001b[49m\u001b[43mkeep_default_dates\u001b[49m\u001b[38;5;241;43m=\u001b[39;49m\u001b[43mkeep_default_dates\u001b[49m\u001b[43m,\u001b[49m\n\u001b[1;32m    596\u001b[0m \u001b[43m    \u001b[49m\u001b[43mnumpy\u001b[49m\u001b[38;5;241;43m=\u001b[39;49m\u001b[43mnumpy\u001b[49m\u001b[43m,\u001b[49m\n\u001b[1;32m    597\u001b[0m \u001b[43m    \u001b[49m\u001b[43mprecise_float\u001b[49m\u001b[38;5;241;43m=\u001b[39;49m\u001b[43mprecise_float\u001b[49m\u001b[43m,\u001b[49m\n\u001b[1;32m    598\u001b[0m \u001b[43m    \u001b[49m\u001b[43mdate_unit\u001b[49m\u001b[38;5;241;43m=\u001b[39;49m\u001b[43mdate_unit\u001b[49m\u001b[43m,\u001b[49m\n\u001b[1;32m    599\u001b[0m \u001b[43m    \u001b[49m\u001b[43mencoding\u001b[49m\u001b[38;5;241;43m=\u001b[39;49m\u001b[43mencoding\u001b[49m\u001b[43m,\u001b[49m\n\u001b[1;32m    600\u001b[0m \u001b[43m    \u001b[49m\u001b[43mlines\u001b[49m\u001b[38;5;241;43m=\u001b[39;49m\u001b[43mlines\u001b[49m\u001b[43m,\u001b[49m\n\u001b[1;32m    601\u001b[0m \u001b[43m    \u001b[49m\u001b[43mchunksize\u001b[49m\u001b[38;5;241;43m=\u001b[39;49m\u001b[43mchunksize\u001b[49m\u001b[43m,\u001b[49m\n\u001b[1;32m    602\u001b[0m \u001b[43m    \u001b[49m\u001b[43mcompression\u001b[49m\u001b[38;5;241;43m=\u001b[39;49m\u001b[43mcompression\u001b[49m\u001b[43m,\u001b[49m\n\u001b[1;32m    603\u001b[0m \u001b[43m    \u001b[49m\u001b[43mnrows\u001b[49m\u001b[38;5;241;43m=\u001b[39;49m\u001b[43mnrows\u001b[49m\u001b[43m,\u001b[49m\n\u001b[1;32m    604\u001b[0m \u001b[43m    \u001b[49m\u001b[43mstorage_options\u001b[49m\u001b[38;5;241;43m=\u001b[39;49m\u001b[43mstorage_options\u001b[49m\u001b[43m,\u001b[49m\n\u001b[1;32m    605\u001b[0m \u001b[43m    \u001b[49m\u001b[43mencoding_errors\u001b[49m\u001b[38;5;241;43m=\u001b[39;49m\u001b[43mencoding_errors\u001b[49m\u001b[43m,\u001b[49m\n\u001b[1;32m    606\u001b[0m \u001b[43m\u001b[49m\u001b[43m)\u001b[49m\n\u001b[1;32m    608\u001b[0m \u001b[38;5;28;01mif\u001b[39;00m chunksize:\n\u001b[1;32m    609\u001b[0m     \u001b[38;5;28;01mreturn\u001b[39;00m json_reader\n",
      "File \u001b[0;32m~/opt/anaconda3/envs/saturnbase/lib/python3.9/site-packages/pandas/io/json/_json.py:673\u001b[0m, in \u001b[0;36mJsonReader.__init__\u001b[0;34m(self, filepath_or_buffer, orient, typ, dtype, convert_axes, convert_dates, keep_default_dates, numpy, precise_float, date_unit, encoding, lines, chunksize, compression, nrows, storage_options, encoding_errors)\u001b[0m\n\u001b[1;32m    670\u001b[0m     \u001b[38;5;28;01mif\u001b[39;00m \u001b[38;5;129;01mnot\u001b[39;00m \u001b[38;5;28mself\u001b[39m\u001b[38;5;241m.\u001b[39mlines:\n\u001b[1;32m    671\u001b[0m         \u001b[38;5;28;01mraise\u001b[39;00m \u001b[38;5;167;01mValueError\u001b[39;00m(\u001b[38;5;124m\"\u001b[39m\u001b[38;5;124mnrows can only be passed if lines=True\u001b[39m\u001b[38;5;124m\"\u001b[39m)\n\u001b[0;32m--> 673\u001b[0m data \u001b[38;5;241m=\u001b[39m \u001b[38;5;28;43mself\u001b[39;49m\u001b[38;5;241;43m.\u001b[39;49m\u001b[43m_get_data_from_filepath\u001b[49m\u001b[43m(\u001b[49m\u001b[43mfilepath_or_buffer\u001b[49m\u001b[43m)\u001b[49m\n\u001b[1;32m    674\u001b[0m \u001b[38;5;28mself\u001b[39m\u001b[38;5;241m.\u001b[39mdata \u001b[38;5;241m=\u001b[39m \u001b[38;5;28mself\u001b[39m\u001b[38;5;241m.\u001b[39m_preprocess_data(data)\n",
      "File \u001b[0;32m~/opt/anaconda3/envs/saturnbase/lib/python3.9/site-packages/pandas/io/json/_json.py:710\u001b[0m, in \u001b[0;36mJsonReader._get_data_from_filepath\u001b[0;34m(self, filepath_or_buffer)\u001b[0m\n\u001b[1;32m    703\u001b[0m filepath_or_buffer \u001b[38;5;241m=\u001b[39m stringify_path(filepath_or_buffer)\n\u001b[1;32m    704\u001b[0m \u001b[38;5;28;01mif\u001b[39;00m (\n\u001b[1;32m    705\u001b[0m     \u001b[38;5;129;01mnot\u001b[39;00m \u001b[38;5;28misinstance\u001b[39m(filepath_or_buffer, \u001b[38;5;28mstr\u001b[39m)\n\u001b[1;32m    706\u001b[0m     \u001b[38;5;129;01mor\u001b[39;00m is_url(filepath_or_buffer)\n\u001b[1;32m    707\u001b[0m     \u001b[38;5;129;01mor\u001b[39;00m is_fsspec_url(filepath_or_buffer)\n\u001b[1;32m    708\u001b[0m     \u001b[38;5;129;01mor\u001b[39;00m file_exists(filepath_or_buffer)\n\u001b[1;32m    709\u001b[0m ):\n\u001b[0;32m--> 710\u001b[0m     \u001b[38;5;28mself\u001b[39m\u001b[38;5;241m.\u001b[39mhandles \u001b[38;5;241m=\u001b[39m \u001b[43mget_handle\u001b[49m\u001b[43m(\u001b[49m\n\u001b[1;32m    711\u001b[0m \u001b[43m        \u001b[49m\u001b[43mfilepath_or_buffer\u001b[49m\u001b[43m,\u001b[49m\n\u001b[1;32m    712\u001b[0m \u001b[43m        \u001b[49m\u001b[38;5;124;43m\"\u001b[39;49m\u001b[38;5;124;43mr\u001b[39;49m\u001b[38;5;124;43m\"\u001b[39;49m\u001b[43m,\u001b[49m\n\u001b[1;32m    713\u001b[0m \u001b[43m        \u001b[49m\u001b[43mencoding\u001b[49m\u001b[38;5;241;43m=\u001b[39;49m\u001b[38;5;28;43mself\u001b[39;49m\u001b[38;5;241;43m.\u001b[39;49m\u001b[43mencoding\u001b[49m\u001b[43m,\u001b[49m\n\u001b[1;32m    714\u001b[0m \u001b[43m        \u001b[49m\u001b[43mcompression\u001b[49m\u001b[38;5;241;43m=\u001b[39;49m\u001b[38;5;28;43mself\u001b[39;49m\u001b[38;5;241;43m.\u001b[39;49m\u001b[43mcompression\u001b[49m\u001b[43m,\u001b[49m\n\u001b[1;32m    715\u001b[0m \u001b[43m        \u001b[49m\u001b[43mstorage_options\u001b[49m\u001b[38;5;241;43m=\u001b[39;49m\u001b[38;5;28;43mself\u001b[39;49m\u001b[38;5;241;43m.\u001b[39;49m\u001b[43mstorage_options\u001b[49m\u001b[43m,\u001b[49m\n\u001b[1;32m    716\u001b[0m \u001b[43m        \u001b[49m\u001b[43merrors\u001b[49m\u001b[38;5;241;43m=\u001b[39;49m\u001b[38;5;28;43mself\u001b[39;49m\u001b[38;5;241;43m.\u001b[39;49m\u001b[43mencoding_errors\u001b[49m\u001b[43m,\u001b[49m\n\u001b[1;32m    717\u001b[0m \u001b[43m    \u001b[49m\u001b[43m)\u001b[49m\n\u001b[1;32m    718\u001b[0m     filepath_or_buffer \u001b[38;5;241m=\u001b[39m \u001b[38;5;28mself\u001b[39m\u001b[38;5;241m.\u001b[39mhandles\u001b[38;5;241m.\u001b[39mhandle\n\u001b[1;32m    720\u001b[0m \u001b[38;5;28;01mreturn\u001b[39;00m filepath_or_buffer\n",
      "File \u001b[0;32m~/opt/anaconda3/envs/saturnbase/lib/python3.9/site-packages/pandas/io/common.py:670\u001b[0m, in \u001b[0;36mget_handle\u001b[0;34m(path_or_buf, mode, encoding, compression, memory_map, is_text, errors, storage_options)\u001b[0m\n\u001b[1;32m    667\u001b[0m     codecs\u001b[38;5;241m.\u001b[39mlookup_error(errors)\n\u001b[1;32m    669\u001b[0m \u001b[38;5;66;03m# open URLs\u001b[39;00m\n\u001b[0;32m--> 670\u001b[0m ioargs \u001b[38;5;241m=\u001b[39m \u001b[43m_get_filepath_or_buffer\u001b[49m\u001b[43m(\u001b[49m\n\u001b[1;32m    671\u001b[0m \u001b[43m    \u001b[49m\u001b[43mpath_or_buf\u001b[49m\u001b[43m,\u001b[49m\n\u001b[1;32m    672\u001b[0m \u001b[43m    \u001b[49m\u001b[43mencoding\u001b[49m\u001b[38;5;241;43m=\u001b[39;49m\u001b[43mencoding\u001b[49m\u001b[43m,\u001b[49m\n\u001b[1;32m    673\u001b[0m \u001b[43m    \u001b[49m\u001b[43mcompression\u001b[49m\u001b[38;5;241;43m=\u001b[39;49m\u001b[43mcompression\u001b[49m\u001b[43m,\u001b[49m\n\u001b[1;32m    674\u001b[0m \u001b[43m    \u001b[49m\u001b[43mmode\u001b[49m\u001b[38;5;241;43m=\u001b[39;49m\u001b[43mmode\u001b[49m\u001b[43m,\u001b[49m\n\u001b[1;32m    675\u001b[0m \u001b[43m    \u001b[49m\u001b[43mstorage_options\u001b[49m\u001b[38;5;241;43m=\u001b[39;49m\u001b[43mstorage_options\u001b[49m\u001b[43m,\u001b[49m\n\u001b[1;32m    676\u001b[0m \u001b[43m\u001b[49m\u001b[43m)\u001b[49m\n\u001b[1;32m    678\u001b[0m handle \u001b[38;5;241m=\u001b[39m ioargs\u001b[38;5;241m.\u001b[39mfilepath_or_buffer\n\u001b[1;32m    679\u001b[0m handles: \u001b[38;5;28mlist\u001b[39m[BaseBuffer]\n",
      "File \u001b[0;32m~/opt/anaconda3/envs/saturnbase/lib/python3.9/site-packages/pandas/io/common.py:427\u001b[0m, in \u001b[0;36m_get_filepath_or_buffer\u001b[0;34m(filepath_or_buffer, encoding, compression, mode, storage_options)\u001b[0m\n\u001b[1;32m    423\u001b[0m \u001b[38;5;28;01mif\u001b[39;00m \u001b[38;5;129;01mnot\u001b[39;00m (\n\u001b[1;32m    424\u001b[0m     \u001b[38;5;28mhasattr\u001b[39m(filepath_or_buffer, \u001b[38;5;124m\"\u001b[39m\u001b[38;5;124mread\u001b[39m\u001b[38;5;124m\"\u001b[39m) \u001b[38;5;129;01mor\u001b[39;00m \u001b[38;5;28mhasattr\u001b[39m(filepath_or_buffer, \u001b[38;5;124m\"\u001b[39m\u001b[38;5;124mwrite\u001b[39m\u001b[38;5;124m\"\u001b[39m)\n\u001b[1;32m    425\u001b[0m ):\n\u001b[1;32m    426\u001b[0m     msg \u001b[38;5;241m=\u001b[39m \u001b[38;5;124mf\u001b[39m\u001b[38;5;124m\"\u001b[39m\u001b[38;5;124mInvalid file path or buffer object type: \u001b[39m\u001b[38;5;132;01m{\u001b[39;00m\u001b[38;5;28mtype\u001b[39m(filepath_or_buffer)\u001b[38;5;132;01m}\u001b[39;00m\u001b[38;5;124m\"\u001b[39m\n\u001b[0;32m--> 427\u001b[0m     \u001b[38;5;28;01mraise\u001b[39;00m \u001b[38;5;167;01mValueError\u001b[39;00m(msg)\n\u001b[1;32m    429\u001b[0m \u001b[38;5;28;01mreturn\u001b[39;00m IOArgs(\n\u001b[1;32m    430\u001b[0m     filepath_or_buffer\u001b[38;5;241m=\u001b[39mfilepath_or_buffer,\n\u001b[1;32m    431\u001b[0m     encoding\u001b[38;5;241m=\u001b[39mencoding,\n\u001b[0;32m   (...)\u001b[0m\n\u001b[1;32m    434\u001b[0m     mode\u001b[38;5;241m=\u001b[39mmode,\n\u001b[1;32m    435\u001b[0m )\n",
      "\u001b[0;31mValueError\u001b[0m: Invalid file path or buffer object type: <class 'dict'>"
     ]
    }
   ],
   "source": [
    "df = pd.read_json(j)"
   ]
  },
  {
   "cell_type": "code",
   "execution_count": null,
   "id": "d0f11ba9-bba4-4d69-989f-af5d2a09e0bb",
   "metadata": {},
   "outputs": [],
   "source": []
  }
 ],
 "metadata": {
  "kernelspec": {
   "display_name": "Python 3 (ipykernel)",
   "language": "python",
   "name": "python3"
  },
  "language_info": {
   "codemirror_mode": {
    "name": "ipython",
    "version": 3
   },
   "file_extension": ".py",
   "mimetype": "text/x-python",
   "name": "python",
   "nbconvert_exporter": "python",
   "pygments_lexer": "ipython3",
   "version": "3.9.13"
  }
 },
 "nbformat": 4,
 "nbformat_minor": 5
}
