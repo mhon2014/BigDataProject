{
 "cells": [
  {
   "cell_type": "code",
   "execution_count": 2,
   "id": "e9a5c612-f41b-49bf-a1f1-4a6a852e58dc",
   "metadata": {},
   "outputs": [],
   "source": [
    "import s3fs"
   ]
  },
  {
   "cell_type": "markdown",
   "id": "c61f7584-83a1-45f6-a7b7-a85593447228",
   "metadata": {},
   "source": [
    "### FILE PATHS"
   ]
  },
  {
   "cell_type": "code",
   "execution_count": 3,
   "id": "80f8c37e-d3a7-4055-b105-50dcddb42e1e",
   "metadata": {},
   "outputs": [
    {
     "data": {
      "text/plain": [
       "['spacenet-dataset/Hosted-Datasets/fmow/fmow-full/CHANGELOG.md',\n",
       " 'spacenet-dataset/Hosted-Datasets/fmow/fmow-full/IARPA-fMoW.pdf',\n",
       " 'spacenet-dataset/Hosted-Datasets/fmow/fmow-full/LICENSE',\n",
       " 'spacenet-dataset/Hosted-Datasets/fmow/fmow-full/README.md',\n",
       " 'spacenet-dataset/Hosted-Datasets/fmow/fmow-full/fMoW-full_seqandgt_v1.2.1.torrent',\n",
       " 'spacenet-dataset/Hosted-Datasets/fmow/fmow-full/fMoW-full_test_v1.0.0.torrent',\n",
       " 'spacenet-dataset/Hosted-Datasets/fmow/fmow-full/fMoW-full_trainval_v1.0.0.torrent',\n",
       " 'spacenet-dataset/Hosted-Datasets/fmow/fmow-full/fMoW-full_val_sample_v1.1.0.torrent',\n",
       " 'spacenet-dataset/Hosted-Datasets/fmow/fmow-full/groundtruth.tar.bz2',\n",
       " 'spacenet-dataset/Hosted-Datasets/fmow/fmow-full/manifest.json.bz2',\n",
       " 'spacenet-dataset/Hosted-Datasets/fmow/fmow-full/seq',\n",
       " 'spacenet-dataset/Hosted-Datasets/fmow/fmow-full/test',\n",
       " 'spacenet-dataset/Hosted-Datasets/fmow/fmow-full/train',\n",
       " 'spacenet-dataset/Hosted-Datasets/fmow/fmow-full/val',\n",
       " 'spacenet-dataset/Hosted-Datasets/fmow/fmow-full/val_false_detection_metadata.tar.bz2']"
      ]
     },
     "execution_count": 3,
     "metadata": {},
     "output_type": "execute_result"
    }
   ],
   "source": [
    "s3 = s3fs.S3FileSystem(anon=True)\n",
    "s3path = 's3://spacenet-dataset/Hosted-Datasets/fmow/fmow-full/'\n",
    "s3.ls(s3path)"
   ]
  },
  {
   "cell_type": "code",
   "execution_count": 4,
   "id": "be72e996-8ead-462c-aa0b-e6ea7531ae44",
   "metadata": {},
   "outputs": [
    {
     "data": {
      "text/plain": [
       "['spacenet-dataset/',\n",
       " 'spacenet-dataset/AOIs',\n",
       " 'spacenet-dataset/Hosted-Datasets',\n",
       " 'spacenet-dataset/LICENSE.md',\n",
       " 'spacenet-dataset/SpaceNet_Off-Nadir_Dataset',\n",
       " 'spacenet-dataset/spacenet',\n",
       " 'spacenet-dataset/spacenet-model-weights',\n",
       " 'spacenet-dataset/spacenet-stac']"
      ]
     },
     "execution_count": 4,
     "metadata": {},
     "output_type": "execute_result"
    }
   ],
   "source": [
    "s3.ls('s3://spacenet-dataset/')"
   ]
  },
  {
   "cell_type": "code",
   "execution_count": 32,
   "id": "322094b5-7764-4e57-9067-3aa63ea43492",
   "metadata": {
    "tags": []
   },
   "outputs": [
    {
     "data": {
      "text/plain": [
       "['spacenet-dataset/Hosted-Datasets/fmow/fmow-rgb/train/airport/airport_0/airport_0_0_msrgb.jpg',\n",
       " 'spacenet-dataset/Hosted-Datasets/fmow/fmow-rgb/train/airport/airport_0/airport_0_0_msrgb.json',\n",
       " 'spacenet-dataset/Hosted-Datasets/fmow/fmow-rgb/train/airport/airport_0/airport_0_0_rgb.jpg',\n",
       " 'spacenet-dataset/Hosted-Datasets/fmow/fmow-rgb/train/airport/airport_0/airport_0_0_rgb.json',\n",
       " 'spacenet-dataset/Hosted-Datasets/fmow/fmow-rgb/train/airport/airport_0/airport_0_1_msrgb.jpg',\n",
       " 'spacenet-dataset/Hosted-Datasets/fmow/fmow-rgb/train/airport/airport_0/airport_0_1_msrgb.json',\n",
       " 'spacenet-dataset/Hosted-Datasets/fmow/fmow-rgb/train/airport/airport_0/airport_0_1_rgb.jpg',\n",
       " 'spacenet-dataset/Hosted-Datasets/fmow/fmow-rgb/train/airport/airport_0/airport_0_1_rgb.json',\n",
       " 'spacenet-dataset/Hosted-Datasets/fmow/fmow-rgb/train/airport/airport_0/airport_0_2_msrgb.jpg',\n",
       " 'spacenet-dataset/Hosted-Datasets/fmow/fmow-rgb/train/airport/airport_0/airport_0_2_msrgb.json',\n",
       " 'spacenet-dataset/Hosted-Datasets/fmow/fmow-rgb/train/airport/airport_0/airport_0_2_rgb.jpg',\n",
       " 'spacenet-dataset/Hosted-Datasets/fmow/fmow-rgb/train/airport/airport_0/airport_0_2_rgb.json',\n",
       " 'spacenet-dataset/Hosted-Datasets/fmow/fmow-rgb/train/airport/airport_0/airport_0_3_msrgb.jpg',\n",
       " 'spacenet-dataset/Hosted-Datasets/fmow/fmow-rgb/train/airport/airport_0/airport_0_3_msrgb.json',\n",
       " 'spacenet-dataset/Hosted-Datasets/fmow/fmow-rgb/train/airport/airport_0/airport_0_3_rgb.jpg',\n",
       " 'spacenet-dataset/Hosted-Datasets/fmow/fmow-rgb/train/airport/airport_0/airport_0_3_rgb.json',\n",
       " 'spacenet-dataset/Hosted-Datasets/fmow/fmow-rgb/train/airport/airport_0/airport_0_5_msrgb.jpg',\n",
       " 'spacenet-dataset/Hosted-Datasets/fmow/fmow-rgb/train/airport/airport_0/airport_0_5_msrgb.json',\n",
       " 'spacenet-dataset/Hosted-Datasets/fmow/fmow-rgb/train/airport/airport_0/airport_0_5_rgb.jpg',\n",
       " 'spacenet-dataset/Hosted-Datasets/fmow/fmow-rgb/train/airport/airport_0/airport_0_5_rgb.json',\n",
       " 'spacenet-dataset/Hosted-Datasets/fmow/fmow-rgb/train/airport/airport_0/airport_0_6_msrgb.jpg',\n",
       " 'spacenet-dataset/Hosted-Datasets/fmow/fmow-rgb/train/airport/airport_0/airport_0_6_msrgb.json',\n",
       " 'spacenet-dataset/Hosted-Datasets/fmow/fmow-rgb/train/airport/airport_0/airport_0_6_rgb.jpg',\n",
       " 'spacenet-dataset/Hosted-Datasets/fmow/fmow-rgb/train/airport/airport_0/airport_0_6_rgb.json',\n",
       " 'spacenet-dataset/Hosted-Datasets/fmow/fmow-rgb/train/airport/airport_0/airport_0_7_msrgb.jpg',\n",
       " 'spacenet-dataset/Hosted-Datasets/fmow/fmow-rgb/train/airport/airport_0/airport_0_7_msrgb.json',\n",
       " 'spacenet-dataset/Hosted-Datasets/fmow/fmow-rgb/train/airport/airport_0/airport_0_7_rgb.jpg',\n",
       " 'spacenet-dataset/Hosted-Datasets/fmow/fmow-rgb/train/airport/airport_0/airport_0_7_rgb.json']"
      ]
     },
     "execution_count": 32,
     "metadata": {},
     "output_type": "execute_result"
    }
   ],
   "source": [
    "s3.ls('s3://spacenet-dataset/Hosted-Datasets/fmow/fmow-rgb/train/airport/airport_0')"
   ]
  },
  {
   "cell_type": "markdown",
   "id": "4f0f5d00-e87c-4c29-b7d7-9fb8d8ac5234",
   "metadata": {},
   "source": [
    "# DOWNLOADING FILE"
   ]
  },
  {
   "cell_type": "code",
   "execution_count": 44,
   "id": "7531449d-3552-4895-9386-24d6c38aca3e",
   "metadata": {
    "collapsed": true,
    "jupyter": {
     "outputs_hidden": true
    },
    "tags": []
   },
   "outputs": [
    {
     "data": {
      "text/plain": [
       "[None,\n",
       " None,\n",
       " None,\n",
       " None,\n",
       " None,\n",
       " None,\n",
       " None,\n",
       " None,\n",
       " None,\n",
       " None,\n",
       " None,\n",
       " None,\n",
       " None,\n",
       " None,\n",
       " None,\n",
       " None,\n",
       " None,\n",
       " None,\n",
       " None,\n",
       " None,\n",
       " None,\n",
       " None,\n",
       " None,\n",
       " None,\n",
       " None,\n",
       " None,\n",
       " None,\n",
       " None,\n",
       " None]"
      ]
     },
     "execution_count": 44,
     "metadata": {},
     "output_type": "execute_result"
    }
   ],
   "source": [
    "# s3.get(RemoteFile, LocalFile, recursive=True if folder, else remove)\n",
    "s3.get('s3://spacenet-dataset/Hosted-Datasets/fmow/fmow-rgb/train/airport/airport_0/','sample/spacenet-dataset/Hosted-Datasets/fmow/fmow-rgb/train/airport/airport_0/', recursive=True)"
   ]
  },
  {
   "cell_type": "code",
   "execution_count": 17,
   "id": "8ee9a6a3-b594-4573-ad52-236ad3975d19",
   "metadata": {},
   "outputs": [],
   "source": [
    "import glob"
   ]
  },
  {
   "cell_type": "code",
   "execution_count": 58,
   "id": "0a990164-b676-4fca-8bce-20cbb68ec57b",
   "metadata": {},
   "outputs": [],
   "source": [
    "files = glob.glob('./groundtruth/**/*', recursive=True)"
   ]
  },
  {
   "cell_type": "code",
   "execution_count": 59,
   "id": "a566f5e5-b392-4377-9d30-3b3731bca721",
   "metadata": {},
   "outputs": [],
   "source": [
    "data = glob.glob('./sample/**/*.json', recursive=True)"
   ]
  },
  {
   "cell_type": "code",
   "execution_count": 60,
   "id": "beff764a-e05d-404a-b28c-264f1d8da83b",
   "metadata": {},
   "outputs": [
    {
     "data": {
      "text/plain": [
       "['./sample/spacenet-dataset/Hosted-Datasets/fmow/fmow-rgb/train/airport/airport_0/airport_0_5_rgb.json',\n",
       " './sample/spacenet-dataset/Hosted-Datasets/fmow/fmow-rgb/train/airport/airport_0/airport_0_5_msrgb.json',\n",
       " './sample/spacenet-dataset/Hosted-Datasets/fmow/fmow-rgb/train/airport/airport_0/airport_0_0_msrgb.json',\n",
       " './sample/spacenet-dataset/Hosted-Datasets/fmow/fmow-rgb/train/airport/airport_0/airport_0_7_msrgb.json',\n",
       " './sample/spacenet-dataset/Hosted-Datasets/fmow/fmow-rgb/train/airport/airport_0/airport_0_2_rgb.json',\n",
       " './sample/spacenet-dataset/Hosted-Datasets/fmow/fmow-rgb/train/airport/airport_0/airport_0_3_rgb.json',\n",
       " './sample/spacenet-dataset/Hosted-Datasets/fmow/fmow-rgb/train/airport/airport_0/airport_0_2_msrgb.json',\n",
       " './sample/spacenet-dataset/Hosted-Datasets/fmow/fmow-rgb/train/airport/airport_0/airport_0_1_msrgb.json',\n",
       " './sample/spacenet-dataset/Hosted-Datasets/fmow/fmow-rgb/train/airport/airport_0/airport_0_6_rgb.json',\n",
       " './sample/spacenet-dataset/Hosted-Datasets/fmow/fmow-rgb/train/airport/airport_0/airport_0_7_rgb.json',\n",
       " './sample/spacenet-dataset/Hosted-Datasets/fmow/fmow-rgb/train/airport/airport_0/airport_0_3_msrgb.json',\n",
       " './sample/spacenet-dataset/Hosted-Datasets/fmow/fmow-rgb/train/airport/airport_0/airport_0_1_rgb.json',\n",
       " './sample/spacenet-dataset/Hosted-Datasets/fmow/fmow-rgb/train/airport/airport_0/airport_0_0_rgb.json',\n",
       " './sample/spacenet-dataset/Hosted-Datasets/fmow/fmow-rgb/train/airport/airport_0/airport_0_6_msrgb.json']"
      ]
     },
     "execution_count": 60,
     "metadata": {},
     "output_type": "execute_result"
    }
   ],
   "source": [
    "data"
   ]
  },
  {
   "cell_type": "code",
   "execution_count": 61,
   "id": "77fc9f69-3d05-4ffb-be04-1b51e312071b",
   "metadata": {},
   "outputs": [
    {
     "data": {
      "text/plain": [
       "1167366"
      ]
     },
     "execution_count": 61,
     "metadata": {},
     "output_type": "execute_result"
    }
   ],
   "source": [
    "len(files)"
   ]
  },
  {
   "cell_type": "code",
   "execution_count": 8,
   "id": "4c3cfd7c-85f9-4f79-bbc9-9887686a8050",
   "metadata": {},
   "outputs": [
    {
     "data": {
      "text/plain": [
       "['./groundtruth/seq_gt/fountain/fountain_148/fountain_148_0_rgb.json',\n",
       " './groundtruth/seq_gt/fountain/fountain_148/fountain_148_0_ms.json',\n",
       " './groundtruth/seq_gt/fountain/fountain_32/fountain_32_0_rgb.json',\n",
       " './groundtruth/seq_gt/fountain/fountain_32/fountain_32_0_ms.json',\n",
       " './groundtruth/seq_gt/fountain/fountain_141/fountain_141_0_rgb.json',\n",
       " './groundtruth/seq_gt/fountain/fountain_141/fountain_141_1_rgb.json',\n",
       " './groundtruth/seq_gt/fountain/fountain_141/fountain_141_1_ms.json',\n",
       " './groundtruth/seq_gt/fountain/fountain_141/fountain_141_0_ms.json',\n",
       " './groundtruth/seq_gt/fountain/fountain_146/fountain_146_0_ms.json',\n",
       " './groundtruth/seq_gt/fountain/fountain_146/fountain_146_0_rgb.json']"
      ]
     },
     "execution_count": 8,
     "metadata": {},
     "output_type": "execute_result"
    }
   ],
   "source": [
    "files[:10]"
   ]
  },
  {
   "cell_type": "markdown",
   "id": "01a0a4f8-aa21-4047-a1eb-a05db573a284",
   "metadata": {},
   "source": [
    "# Train data sample"
   ]
  },
  {
   "cell_type": "code",
   "execution_count": 20,
   "id": "d4466542-4756-40bb-851d-13a25119a5e8",
   "metadata": {},
   "outputs": [],
   "source": [
    "import json"
   ]
  },
  {
   "cell_type": "code",
   "execution_count": 65,
   "id": "e712e0da-b2ca-479e-9b16-0d14b91ccefa",
   "metadata": {},
   "outputs": [],
   "source": [
    "jsondata = json.load(open(data[0]))"
   ]
  },
  {
   "cell_type": "code",
   "execution_count": 66,
   "id": "29d5a19a-1a2a-4536-8b40-589cd5b982e8",
   "metadata": {},
   "outputs": [],
   "source": [
    "dataframe = pd.json_normalize(jsondata)\n"
   ]
  },
  {
   "cell_type": "code",
   "execution_count": 69,
   "id": "f968660a-8864-47cf-866a-4d2aa4f26c11",
   "metadata": {},
   "outputs": [
    {
     "data": {
      "text/plain": [
       "Index(['img_filename', 'bounding_boxes', 'gsd', 'img_width', 'img_height',\n",
       "       'mean_pixel_height', 'mean_pixel_width', 'utm', 'country_code',\n",
       "       'cloud_cover', 'timestamp', 'scan_direction', 'approximate_wavelengths',\n",
       "       'pan_resolution_dbl', 'pan_resolution_start_dbl',\n",
       "       'pan_resolution_end_dbl', 'pan_resolution_min_dbl',\n",
       "       'pan_resolution_max_dbl', 'multi_resolution_dbl',\n",
       "       'multi_resolution_start_dbl', 'multi_resolution_end_dbl',\n",
       "       'multi_resolution_min_dbl', 'multi_resolution_max_dbl',\n",
       "       'target_azimuth_dbl', 'target_azimuth_start_dbl',\n",
       "       'target_azimuth_end_dbl', 'target_azimuth_min_dbl',\n",
       "       'target_azimuth_max_dbl', 'sun_azimuth_dbl', 'sun_azimuth_min_dbl',\n",
       "       'sun_azimuth_max_dbl', 'sun_elevation_dbl', 'sun_elevation_min_dbl',\n",
       "       'sun_elevation_max_dbl', 'off_nadir_angle_dbl',\n",
       "       'off_nadir_angle_start_dbl', 'off_nadir_angle_end_dbl',\n",
       "       'off_nadir_angle_min_dbl', 'off_nadir_angle_max_dbl'],\n",
       "      dtype='object')"
      ]
     },
     "execution_count": 69,
     "metadata": {},
     "output_type": "execute_result"
    }
   ],
   "source": [
    "dataframe.columns"
   ]
  },
  {
   "cell_type": "code",
   "execution_count": 68,
   "id": "5cb611b1-4e48-42f2-942e-8ee60dba6629",
   "metadata": {},
   "outputs": [
    {
     "data": {
      "text/html": [
       "<div>\n",
       "<style scoped>\n",
       "    .dataframe tbody tr th:only-of-type {\n",
       "        vertical-align: middle;\n",
       "    }\n",
       "\n",
       "    .dataframe tbody tr th {\n",
       "        vertical-align: top;\n",
       "    }\n",
       "\n",
       "    .dataframe thead th {\n",
       "        text-align: right;\n",
       "    }\n",
       "</style>\n",
       "<table border=\"1\" class=\"dataframe\">\n",
       "  <thead>\n",
       "    <tr style=\"text-align: right;\">\n",
       "      <th></th>\n",
       "      <th>img_filename</th>\n",
       "      <th>bounding_boxes</th>\n",
       "      <th>gsd</th>\n",
       "      <th>img_width</th>\n",
       "      <th>img_height</th>\n",
       "      <th>mean_pixel_height</th>\n",
       "      <th>mean_pixel_width</th>\n",
       "      <th>utm</th>\n",
       "      <th>country_code</th>\n",
       "      <th>cloud_cover</th>\n",
       "      <th>...</th>\n",
       "      <th>sun_azimuth_min_dbl</th>\n",
       "      <th>sun_azimuth_max_dbl</th>\n",
       "      <th>sun_elevation_dbl</th>\n",
       "      <th>sun_elevation_min_dbl</th>\n",
       "      <th>sun_elevation_max_dbl</th>\n",
       "      <th>off_nadir_angle_dbl</th>\n",
       "      <th>off_nadir_angle_start_dbl</th>\n",
       "      <th>off_nadir_angle_end_dbl</th>\n",
       "      <th>off_nadir_angle_min_dbl</th>\n",
       "      <th>off_nadir_angle_max_dbl</th>\n",
       "    </tr>\n",
       "  </thead>\n",
       "  <tbody>\n",
       "    <tr>\n",
       "      <th>0</th>\n",
       "      <td>airport_0_5_rgb.jpg</td>\n",
       "      <td>[{'category': 'airport', 'ID': 144, 'visible':...</td>\n",
       "      <td>0.612374</td>\n",
       "      <td>8225</td>\n",
       "      <td>6331</td>\n",
       "      <td>0.000005</td>\n",
       "      <td>0.000005</td>\n",
       "      <td>36S</td>\n",
       "      <td>TUR</td>\n",
       "      <td>5</td>\n",
       "      <td>...</td>\n",
       "      <td>141.644791</td>\n",
       "      <td>142.240463</td>\n",
       "      <td>70.212056</td>\n",
       "      <td>70.029724</td>\n",
       "      <td>70.37056</td>\n",
       "      <td>1.728416</td>\n",
       "      <td>2.425688</td>\n",
       "      <td>2.311145</td>\n",
       "      <td>0.887429</td>\n",
       "      <td>2.425688</td>\n",
       "    </tr>\n",
       "  </tbody>\n",
       "</table>\n",
       "<p>1 rows × 39 columns</p>\n",
       "</div>"
      ],
      "text/plain": [
       "          img_filename                                     bounding_boxes  \\\n",
       "0  airport_0_5_rgb.jpg  [{'category': 'airport', 'ID': 144, 'visible':...   \n",
       "\n",
       "        gsd  img_width  img_height  mean_pixel_height  mean_pixel_width  utm  \\\n",
       "0  0.612374       8225        6331           0.000005          0.000005  36S   \n",
       "\n",
       "  country_code  cloud_cover  ... sun_azimuth_min_dbl sun_azimuth_max_dbl  \\\n",
       "0          TUR            5  ...          141.644791          142.240463   \n",
       "\n",
       "  sun_elevation_dbl  sun_elevation_min_dbl  sun_elevation_max_dbl  \\\n",
       "0         70.212056              70.029724               70.37056   \n",
       "\n",
       "   off_nadir_angle_dbl  off_nadir_angle_start_dbl  off_nadir_angle_end_dbl  \\\n",
       "0             1.728416                   2.425688                 2.311145   \n",
       "\n",
       "   off_nadir_angle_min_dbl  off_nadir_angle_max_dbl  \n",
       "0                 0.887429                 2.425688  \n",
       "\n",
       "[1 rows x 39 columns]"
      ]
     },
     "execution_count": 68,
     "metadata": {},
     "output_type": "execute_result"
    }
   ],
   "source": [
    "dataframe"
   ]
  },
  {
   "cell_type": "markdown",
   "id": "f33ed5f5-829b-4fb7-881a-882646373371",
   "metadata": {},
   "source": [
    "# Groundtruth data"
   ]
  },
  {
   "cell_type": "code",
   "execution_count": 21,
   "id": "cf1fc6d7-b5c3-4173-9422-965e13492e50",
   "metadata": {},
   "outputs": [],
   "source": [
    "j = json.load(open(files[1]))"
   ]
  },
  {
   "cell_type": "code",
   "execution_count": 22,
   "id": "68909368-ee95-4ac4-809a-54553ee26c75",
   "metadata": {},
   "outputs": [],
   "source": [
    "import pandas as pd"
   ]
  },
  {
   "cell_type": "code",
   "execution_count": 23,
   "id": "79121280-a5cb-486a-b1dc-dbaf2069c6a6",
   "metadata": {},
   "outputs": [
    {
     "data": {
      "text/plain": [
       "['./groundtruth/seq_gt/fountain/fountain_148/fountain_148_0_rgb.json',\n",
       " './groundtruth/seq_gt/fountain/fountain_148/fountain_148_0_ms.json']"
      ]
     },
     "execution_count": 23,
     "metadata": {},
     "output_type": "execute_result"
    }
   ],
   "source": [
    "files[:2]"
   ]
  },
  {
   "cell_type": "code",
   "execution_count": 24,
   "id": "9665f186-79ac-4000-a074-79932338e885",
   "metadata": {
    "tags": []
   },
   "outputs": [],
   "source": [
    "df = pd.json_normalize(j)\n"
   ]
  },
  {
   "cell_type": "code",
   "execution_count": 25,
   "id": "d0a39249-a3a6-4723-89c1-345d157d245c",
   "metadata": {},
   "outputs": [
    {
     "data": {
      "text/plain": [
       "Index(['img_filename', 'bounding_boxes', 'gsd', 'img_width', 'img_height',\n",
       "       'mean_pixel_height', 'mean_pixel_width', 'utm', 'country_code',\n",
       "       'cloud_cover', 'timestamp', 'scan_direction', 'approximate_wavelengths',\n",
       "       'pan_resolution_dbl', 'pan_resolution_start_dbl',\n",
       "       'pan_resolution_end_dbl', 'pan_resolution_min_dbl',\n",
       "       'pan_resolution_max_dbl', 'multi_resolution_dbl',\n",
       "       'multi_resolution_start_dbl', 'multi_resolution_end_dbl',\n",
       "       'multi_resolution_min_dbl', 'multi_resolution_max_dbl',\n",
       "       'target_azimuth_dbl', 'target_azimuth_start_dbl',\n",
       "       'target_azimuth_end_dbl', 'target_azimuth_min_dbl',\n",
       "       'target_azimuth_max_dbl', 'sun_azimuth_dbl', 'sun_azimuth_min_dbl',\n",
       "       'sun_azimuth_max_dbl', 'sun_elevation_dbl', 'sun_elevation_min_dbl',\n",
       "       'sun_elevation_max_dbl', 'off_nadir_angle_dbl',\n",
       "       'off_nadir_angle_start_dbl', 'off_nadir_angle_end_dbl',\n",
       "       'off_nadir_angle_min_dbl', 'off_nadir_angle_max_dbl', 'catalog_id',\n",
       "       'sensor_platform_name', 'raw_location', 'spatial_reference', 'epsg',\n",
       "       'abs_cal_factors'],\n",
       "      dtype='object')"
      ]
     },
     "execution_count": 25,
     "metadata": {},
     "output_type": "execute_result"
    }
   ],
   "source": [
    "df.columns"
   ]
  },
  {
   "cell_type": "code",
   "execution_count": 28,
   "id": "d0f11ba9-bba4-4d69-989f-af5d2a09e0bb",
   "metadata": {},
   "outputs": [
    {
     "data": {
      "text/html": [
       "<div>\n",
       "<style scoped>\n",
       "    .dataframe tbody tr th:only-of-type {\n",
       "        vertical-align: middle;\n",
       "    }\n",
       "\n",
       "    .dataframe tbody tr th {\n",
       "        vertical-align: top;\n",
       "    }\n",
       "\n",
       "    .dataframe thead th {\n",
       "        text-align: right;\n",
       "    }\n",
       "</style>\n",
       "<table border=\"1\" class=\"dataframe\">\n",
       "  <thead>\n",
       "    <tr style=\"text-align: right;\">\n",
       "      <th></th>\n",
       "      <th>img_filename</th>\n",
       "      <th>bounding_boxes</th>\n",
       "      <th>gsd</th>\n",
       "      <th>img_width</th>\n",
       "      <th>img_height</th>\n",
       "      <th>mean_pixel_height</th>\n",
       "      <th>mean_pixel_width</th>\n",
       "      <th>utm</th>\n",
       "      <th>country_code</th>\n",
       "      <th>cloud_cover</th>\n",
       "      <th>...</th>\n",
       "      <th>off_nadir_angle_start_dbl</th>\n",
       "      <th>off_nadir_angle_end_dbl</th>\n",
       "      <th>off_nadir_angle_min_dbl</th>\n",
       "      <th>off_nadir_angle_max_dbl</th>\n",
       "      <th>catalog_id</th>\n",
       "      <th>sensor_platform_name</th>\n",
       "      <th>raw_location</th>\n",
       "      <th>spatial_reference</th>\n",
       "      <th>epsg</th>\n",
       "      <th>abs_cal_factors</th>\n",
       "    </tr>\n",
       "  </thead>\n",
       "  <tbody>\n",
       "    <tr>\n",
       "      <th>0</th>\n",
       "      <td>fountain_148_0_ms.tif</td>\n",
       "      <td>[{'raw_category': 'Fountain', 'category': 'fou...</td>\n",
       "      <td>1.931081</td>\n",
       "      <td>261</td>\n",
       "      <td>177</td>\n",
       "      <td>0.000017</td>\n",
       "      <td>0.000017</td>\n",
       "      <td>33T</td>\n",
       "      <td>AUT</td>\n",
       "      <td>0</td>\n",
       "      <td>...</td>\n",
       "      <td>9.895093</td>\n",
       "      <td>13.890012</td>\n",
       "      <td>9.895093</td>\n",
       "      <td>13.890012</td>\n",
       "      <td>1030050042F99900</td>\n",
       "      <td>WORLDVIEW02</td>\n",
       "      <td>POLYGON ((12.757161911800001 47.27071854750000...</td>\n",
       "      <td>GCS_WGS_1984</td>\n",
       "      <td>4326</td>\n",
       "      <td>[{'band': 'coastal', 'value': 0.009295654}, {'...</td>\n",
       "    </tr>\n",
       "  </tbody>\n",
       "</table>\n",
       "<p>1 rows × 45 columns</p>\n",
       "</div>"
      ],
      "text/plain": [
       "            img_filename                                     bounding_boxes  \\\n",
       "0  fountain_148_0_ms.tif  [{'raw_category': 'Fountain', 'category': 'fou...   \n",
       "\n",
       "        gsd  img_width  img_height  mean_pixel_height  mean_pixel_width  utm  \\\n",
       "0  1.931081        261         177           0.000017          0.000017  33T   \n",
       "\n",
       "  country_code  cloud_cover  ... off_nadir_angle_start_dbl  \\\n",
       "0          AUT            0  ...                  9.895093   \n",
       "\n",
       "  off_nadir_angle_end_dbl off_nadir_angle_min_dbl  off_nadir_angle_max_dbl  \\\n",
       "0               13.890012                9.895093                13.890012   \n",
       "\n",
       "         catalog_id  sensor_platform_name  \\\n",
       "0  1030050042F99900           WORLDVIEW02   \n",
       "\n",
       "                                        raw_location  spatial_reference  epsg  \\\n",
       "0  POLYGON ((12.757161911800001 47.27071854750000...       GCS_WGS_1984  4326   \n",
       "\n",
       "                                     abs_cal_factors  \n",
       "0  [{'band': 'coastal', 'value': 0.009295654}, {'...  \n",
       "\n",
       "[1 rows x 45 columns]"
      ]
     },
     "execution_count": 28,
     "metadata": {},
     "output_type": "execute_result"
    }
   ],
   "source": [
    "df"
   ]
  },
  {
   "cell_type": "code",
   "execution_count": null,
   "id": "0ee01da3-5ea4-43ad-a49b-d2db078a3324",
   "metadata": {},
   "outputs": [],
   "source": []
  }
 ],
 "metadata": {
  "kernelspec": {
   "display_name": "Python 3 (ipykernel)",
   "language": "python",
   "name": "python3"
  },
  "language_info": {
   "codemirror_mode": {
    "name": "ipython",
    "version": 3
   },
   "file_extension": ".py",
   "mimetype": "text/x-python",
   "name": "python",
   "nbconvert_exporter": "python",
   "pygments_lexer": "ipython3",
   "version": "3.9.13"
  }
 },
 "nbformat": 4,
 "nbformat_minor": 5
}
