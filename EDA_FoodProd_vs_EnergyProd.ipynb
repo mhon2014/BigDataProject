{
 "cells": [
  {
   "cell_type": "markdown",
   "id": "8e31b3b7",
   "metadata": {},
   "source": [
    "# Big Data Group Project: Functional Map of the World"
   ]
  },
  {
   "cell_type": "markdown",
   "id": "5b381b7c",
   "metadata": {},
   "source": [
    "## Purpose of this notebook: To evaluate how countries prioritize Food Manufacturing/Farming and Power/Energy Industry relative to one another"
   ]
  },
  {
   "cell_type": "code",
   "execution_count": 1,
   "id": "548f410d",
   "metadata": {},
   "outputs": [
    {
     "data": {
      "text/html": [
       "<div>\n",
       "<style scoped>\n",
       "    .dataframe tbody tr th:only-of-type {\n",
       "        vertical-align: middle;\n",
       "    }\n",
       "\n",
       "    .dataframe tbody tr th {\n",
       "        vertical-align: top;\n",
       "    }\n",
       "\n",
       "    .dataframe thead th {\n",
       "        text-align: right;\n",
       "    }\n",
       "</style>\n",
       "<table border=\"1\" class=\"dataframe\">\n",
       "  <thead>\n",
       "    <tr style=\"text-align: right;\">\n",
       "      <th></th>\n",
       "      <th>Unnamed: 0</th>\n",
       "      <th>img_filename</th>\n",
       "      <th>bounding_boxes</th>\n",
       "      <th>gsd</th>\n",
       "      <th>img_width</th>\n",
       "      <th>img_height</th>\n",
       "      <th>mean_pixel_height</th>\n",
       "      <th>mean_pixel_width</th>\n",
       "      <th>utm</th>\n",
       "      <th>country_code</th>\n",
       "      <th>...</th>\n",
       "      <th>off_nadir_angle_start_dbl</th>\n",
       "      <th>off_nadir_angle_end_dbl</th>\n",
       "      <th>off_nadir_angle_min_dbl</th>\n",
       "      <th>off_nadir_angle_max_dbl</th>\n",
       "      <th>catalog_id</th>\n",
       "      <th>sensor_platform_name</th>\n",
       "      <th>raw_location</th>\n",
       "      <th>spatial_reference</th>\n",
       "      <th>epsg</th>\n",
       "      <th>abs_cal_factors</th>\n",
       "    </tr>\n",
       "  </thead>\n",
       "  <tbody>\n",
       "    <tr>\n",
       "      <th>0</th>\n",
       "      <td>0</td>\n",
       "      <td>fountain_148_0_rgb.tif</td>\n",
       "      <td>[{'raw_category': 'Fountain', 'category': 'fou...</td>\n",
       "      <td>0.483650</td>\n",
       "      <td>1040</td>\n",
       "      <td>708</td>\n",
       "      <td>0.000004</td>\n",
       "      <td>0.000004</td>\n",
       "      <td>33T</td>\n",
       "      <td>AUT</td>\n",
       "      <td>...</td>\n",
       "      <td>9.895093</td>\n",
       "      <td>13.890012</td>\n",
       "      <td>9.895093</td>\n",
       "      <td>13.890012</td>\n",
       "      <td>1030050042F99900</td>\n",
       "      <td>WORLDVIEW02</td>\n",
       "      <td>POLYGON ((12.757161911800001 47.27071854750000...</td>\n",
       "      <td>GCS_WGS_1984</td>\n",
       "      <td>4326</td>\n",
       "      <td>[{'band': 'coastal', 'value': 0.009295654}, {'...</td>\n",
       "    </tr>\n",
       "    <tr>\n",
       "      <th>1</th>\n",
       "      <td>1</td>\n",
       "      <td>fountain_32_0_rgb.tif</td>\n",
       "      <td>[{'raw_category': 'Fountain', 'category': 'fou...</td>\n",
       "      <td>0.340832</td>\n",
       "      <td>1471</td>\n",
       "      <td>1191</td>\n",
       "      <td>0.000003</td>\n",
       "      <td>0.000003</td>\n",
       "      <td>35S</td>\n",
       "      <td>GRC</td>\n",
       "      <td>...</td>\n",
       "      <td>19.133013</td>\n",
       "      <td>18.779739</td>\n",
       "      <td>18.779739</td>\n",
       "      <td>19.133013</td>\n",
       "      <td>1040010011474B00</td>\n",
       "      <td>WORLDVIEW03_VNIR</td>\n",
       "      <td>POLYGON ((28.022042735799999 36.27118839789999...</td>\n",
       "      <td>GCS_WGS_1984</td>\n",
       "      <td>4326</td>\n",
       "      <td>[{'band': 'nir', 'value': 0.0117971}, {'band':...</td>\n",
       "    </tr>\n",
       "    <tr>\n",
       "      <th>2</th>\n",
       "      <td>2</td>\n",
       "      <td>fountain_141_0_rgb.tif</td>\n",
       "      <td>[{'raw_category': 'Fountain', 'category': 'fou...</td>\n",
       "      <td>0.357868</td>\n",
       "      <td>1401</td>\n",
       "      <td>946</td>\n",
       "      <td>0.000003</td>\n",
       "      <td>0.000003</td>\n",
       "      <td>32T</td>\n",
       "      <td>FRA</td>\n",
       "      <td>...</td>\n",
       "      <td>22.291668</td>\n",
       "      <td>22.967106</td>\n",
       "      <td>22.291668</td>\n",
       "      <td>22.967106</td>\n",
       "      <td>104001002558FA00</td>\n",
       "      <td>WORLDVIEW03_VNIR</td>\n",
       "      <td>POLYGON ((7.3853898117899996 47.68179233210000...</td>\n",
       "      <td>GCS_WGS_1984</td>\n",
       "      <td>4326</td>\n",
       "      <td>[{'band': 'nir', 'value': 0.00691888}, {'band'...</td>\n",
       "    </tr>\n",
       "    <tr>\n",
       "      <th>3</th>\n",
       "      <td>3</td>\n",
       "      <td>fountain_141_1_rgb.tif</td>\n",
       "      <td>[{'raw_category': 'Fountain', 'category': 'fou...</td>\n",
       "      <td>0.467651</td>\n",
       "      <td>944</td>\n",
       "      <td>638</td>\n",
       "      <td>0.000005</td>\n",
       "      <td>0.000005</td>\n",
       "      <td>32T</td>\n",
       "      <td>FRA</td>\n",
       "      <td>...</td>\n",
       "      <td>26.137505</td>\n",
       "      <td>18.055662</td>\n",
       "      <td>18.055662</td>\n",
       "      <td>26.137505</td>\n",
       "      <td>10504100014DB300</td>\n",
       "      <td>GEOEYE01</td>\n",
       "      <td>POLYGON ((7.3853898117899996 47.68179233210000...</td>\n",
       "      <td>GCS_WGS_1984</td>\n",
       "      <td>4326</td>\n",
       "      <td>[{'band': 'blue', 'value': 0.0150102}, {'band'...</td>\n",
       "    </tr>\n",
       "    <tr>\n",
       "      <th>4</th>\n",
       "      <td>4</td>\n",
       "      <td>fountain_146_0_rgb.tif</td>\n",
       "      <td>[{'raw_category': 'Fountain', 'category': 'fou...</td>\n",
       "      <td>0.415978</td>\n",
       "      <td>1197</td>\n",
       "      <td>760</td>\n",
       "      <td>0.000004</td>\n",
       "      <td>0.000004</td>\n",
       "      <td>32U</td>\n",
       "      <td>DEU</td>\n",
       "      <td>...</td>\n",
       "      <td>32.365765</td>\n",
       "      <td>30.903786</td>\n",
       "      <td>30.903786</td>\n",
       "      <td>32.365765</td>\n",
       "      <td>104001000D357C00</td>\n",
       "      <td>WORLDVIEW03_VNIR</td>\n",
       "      <td>POLYGON ((11.336183611799999 50.71727646499999...</td>\n",
       "      <td>GCS_WGS_1984</td>\n",
       "      <td>4326</td>\n",
       "      <td>[{'band': 'nir', 'value': 0.0117971}, {'band':...</td>\n",
       "    </tr>\n",
       "  </tbody>\n",
       "</table>\n",
       "<p>5 rows × 46 columns</p>\n",
       "</div>"
      ],
      "text/plain": [
       "   Unnamed: 0            img_filename  \\\n",
       "0           0  fountain_148_0_rgb.tif   \n",
       "1           1   fountain_32_0_rgb.tif   \n",
       "2           2  fountain_141_0_rgb.tif   \n",
       "3           3  fountain_141_1_rgb.tif   \n",
       "4           4  fountain_146_0_rgb.tif   \n",
       "\n",
       "                                      bounding_boxes       gsd  img_width  \\\n",
       "0  [{'raw_category': 'Fountain', 'category': 'fou...  0.483650       1040   \n",
       "1  [{'raw_category': 'Fountain', 'category': 'fou...  0.340832       1471   \n",
       "2  [{'raw_category': 'Fountain', 'category': 'fou...  0.357868       1401   \n",
       "3  [{'raw_category': 'Fountain', 'category': 'fou...  0.467651        944   \n",
       "4  [{'raw_category': 'Fountain', 'category': 'fou...  0.415978       1197   \n",
       "\n",
       "   img_height  mean_pixel_height  mean_pixel_width  utm country_code  ...  \\\n",
       "0         708           0.000004          0.000004  33T          AUT  ...   \n",
       "1        1191           0.000003          0.000003  35S          GRC  ...   \n",
       "2         946           0.000003          0.000003  32T          FRA  ...   \n",
       "3         638           0.000005          0.000005  32T          FRA  ...   \n",
       "4         760           0.000004          0.000004  32U          DEU  ...   \n",
       "\n",
       "   off_nadir_angle_start_dbl off_nadir_angle_end_dbl off_nadir_angle_min_dbl  \\\n",
       "0                   9.895093               13.890012                9.895093   \n",
       "1                  19.133013               18.779739               18.779739   \n",
       "2                  22.291668               22.967106               22.291668   \n",
       "3                  26.137505               18.055662               18.055662   \n",
       "4                  32.365765               30.903786               30.903786   \n",
       "\n",
       "  off_nadir_angle_max_dbl        catalog_id  sensor_platform_name  \\\n",
       "0               13.890012  1030050042F99900           WORLDVIEW02   \n",
       "1               19.133013  1040010011474B00      WORLDVIEW03_VNIR   \n",
       "2               22.967106  104001002558FA00      WORLDVIEW03_VNIR   \n",
       "3               26.137505  10504100014DB300              GEOEYE01   \n",
       "4               32.365765  104001000D357C00      WORLDVIEW03_VNIR   \n",
       "\n",
       "                                        raw_location  spatial_reference  epsg  \\\n",
       "0  POLYGON ((12.757161911800001 47.27071854750000...       GCS_WGS_1984  4326   \n",
       "1  POLYGON ((28.022042735799999 36.27118839789999...       GCS_WGS_1984  4326   \n",
       "2  POLYGON ((7.3853898117899996 47.68179233210000...       GCS_WGS_1984  4326   \n",
       "3  POLYGON ((7.3853898117899996 47.68179233210000...       GCS_WGS_1984  4326   \n",
       "4  POLYGON ((11.336183611799999 50.71727646499999...       GCS_WGS_1984  4326   \n",
       "\n",
       "                                     abs_cal_factors  \n",
       "0  [{'band': 'coastal', 'value': 0.009295654}, {'...  \n",
       "1  [{'band': 'nir', 'value': 0.0117971}, {'band':...  \n",
       "2  [{'band': 'nir', 'value': 0.00691888}, {'band'...  \n",
       "3  [{'band': 'blue', 'value': 0.0150102}, {'band'...  \n",
       "4  [{'band': 'nir', 'value': 0.0117971}, {'band':...  \n",
       "\n",
       "[5 rows x 46 columns]"
      ]
     },
     "execution_count": 1,
     "metadata": {},
     "output_type": "execute_result"
    }
   ],
   "source": [
    "# import the data and relevant libraries\n",
    "import pandas as pd\n",
    "import ast\n",
    "\n",
    "data=pd.read_csv(\"../datasets/groundtruthdata.csv\")\n",
    "\n",
    "data.head()"
   ]
  },
  {
   "cell_type": "code",
   "execution_count": null,
   "id": "2ccb96b6",
   "metadata": {},
   "outputs": [],
   "source": [
    "# extract relevant information from the dataframe\n",
    "categorical_items = []\n",
    "for img in data[['bounding_boxes']].values:\n",
    "    correct_list = ast.literal_eval(img[0])\n",
    "    categorical_items.append(correct_list[0]['raw_category'])\n",
    "\n",
    "# Add New Row\n",
    "data['category'] = pd.Series(categorical_items)"
   ]
  },
  {
   "cell_type": "code",
   "execution_count": null,
   "id": "ab8aef2d",
   "metadata": {},
   "outputs": [],
   "source": [
    "category_df = data[['country_code', 'category']].copy()"
   ]
  },
  {
   "cell_type": "code",
   "execution_count": null,
   "id": "830ee531",
   "metadata": {},
   "outputs": [],
   "source": [
    "food_prod = [\"Crop Field Orchard\",\"Crop Field Rice\",\"Crop Field Corn\",\"Crop_Field_General\",\"Crop Field Barley\",\n",
    "             \"Crop Field Wheat\",\"Crop Field Vineyard\",\"Crop Field Coffee\",\"Crop Field Flowers\",\n",
    "             \"Crop Field Tea\",\"Aquaculture\"]\n",
    "\n",
    "energy_prod=[\"Nuclear Powerplant\",\"Wind Farm\",\"Factory/Powerplant\",\"Solar Farm\"]\n",
    "\n",
    "food_df=category_df[category_df['category'].isin(food_prod)]\n",
    "energy_df=category_df[category_df['category'].isin(energy_prod)]\n"
   ]
  },
  {
   "cell_type": "code",
   "execution_count": null,
   "id": "d91eec32",
   "metadata": {},
   "outputs": [],
   "source": [
    "food_df.head()"
   ]
  },
  {
   "cell_type": "code",
   "execution_count": null,
   "id": "aaf0fe84",
   "metadata": {},
   "outputs": [],
   "source": [
    "energy_df.head()"
   ]
  },
  {
   "cell_type": "code",
   "execution_count": null,
   "id": "4969b7e0",
   "metadata": {},
   "outputs": [],
   "source": [
    "#get frequency of each category by country\n",
    "food_count=pd.DataFrame(food_df['country_code'].value_counts())\n",
    "energy_count=pd.DataFrame(energy_df['country_code'].value_counts())"
   ]
  },
  {
   "cell_type": "code",
   "execution_count": null,
   "id": "1ab31c02",
   "metadata": {},
   "outputs": [],
   "source": [
    "food_count.head()"
   ]
  },
  {
   "cell_type": "code",
   "execution_count": null,
   "id": "d81bb09d",
   "metadata": {},
   "outputs": [],
   "source": [
    "energy_count.head()"
   ]
  },
  {
   "cell_type": "code",
   "execution_count": null,
   "id": "954c7f19",
   "metadata": {},
   "outputs": [],
   "source": [
    "food_count.reset_index(inplace=True)\n",
    "food_count=food_count.rename(columns={'country_code':'Food Production Frequency','index':'country_code'})"
   ]
  },
  {
   "cell_type": "code",
   "execution_count": null,
   "id": "fd4d7d8e",
   "metadata": {},
   "outputs": [],
   "source": [
    "energy_count.reset_index(inplace=True)\n",
    "energy_count=energy_count.rename(columns={'country_code':'Energy Production Frequency','index':'country_code'})"
   ]
  },
  {
   "cell_type": "code",
   "execution_count": null,
   "id": "f954e759",
   "metadata": {},
   "outputs": [],
   "source": [
    "food_count.head()"
   ]
  },
  {
   "cell_type": "code",
   "execution_count": null,
   "id": "78199cae",
   "metadata": {},
   "outputs": [],
   "source": [
    "energy_count.head()"
   ]
  },
  {
   "cell_type": "code",
   "execution_count": null,
   "id": "b86c43ce",
   "metadata": {},
   "outputs": [],
   "source": [
    "total_df=food_count.merge(energy_count, on='country_code',how='inner')\n",
    "total_df.head()"
   ]
  },
  {
   "cell_type": "markdown",
   "id": "8aa615f5",
   "metadata": {},
   "source": [
    "## Analysis of Data"
   ]
  },
  {
   "cell_type": "code",
   "execution_count": null,
   "id": "b18315bf",
   "metadata": {},
   "outputs": [],
   "source": [
    "import matplotlib.pyplot as plt\n",
    "\n",
    "plt.scatter(total_df[\"Food Production Frequency\"],total_df[\"Energy Production Frequency\"])\n",
    "plt.title(\"Food Prod vs Energy Prod\")\n",
    "plt.xlabel(\"Food Prod\")\n",
    "plt.ylabel(\"Energy Prod\")\n",
    "plt.show()"
   ]
  },
  {
   "cell_type": "code",
   "execution_count": null,
   "id": "6dd18770",
   "metadata": {},
   "outputs": [],
   "source": [
    "print(\"Correlation between Food and Energy Production in countries is :\",\n",
    "      total_df[\"Food Production Frequency\"].corr(total_df[\"Energy Production Frequency\"]))"
   ]
  },
  {
   "cell_type": "code",
   "execution_count": null,
   "id": "0116071d",
   "metadata": {},
   "outputs": [],
   "source": []
  }
 ],
 "metadata": {
  "kernelspec": {
   "display_name": "Python 3 (ipykernel)",
   "language": "python",
   "name": "python3"
  },
  "language_info": {
   "codemirror_mode": {
    "name": "ipython",
    "version": 3
   },
   "file_extension": ".py",
   "mimetype": "text/x-python",
   "name": "python",
   "nbconvert_exporter": "python",
   "pygments_lexer": "ipython3",
   "version": "3.8.13"
  }
 },
 "nbformat": 4,
 "nbformat_minor": 5
}
